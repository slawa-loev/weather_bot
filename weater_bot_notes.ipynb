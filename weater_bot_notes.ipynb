{
 "cells": [
  {
   "cell_type": "markdown",
   "id": "dada1753",
   "metadata": {},
   "source": [
    "# Links on Webhooks\n",
    "\n",
    "[https://cloud.google.com/dialogflow/cx/docs/quick/webhook](https://cloud.google.com/dialogflow/cx/docs/quick/webhook)\n",
    "\n",
    "https://cloud.google.com/dialogflow/cx/docs/concept/webhook\n",
    "\n",
    "https://medium.com/@devashish_m/dialogflow-cx-webhook-tutorial-2022-e831c9691d6f\n",
    "\n",
    "# Integrations\n",
    "\n",
    "Integrations are services that integrate CX Dialogflow agents\n",
    "\n",
    "https://cloud.google.com/dialogflow/cx/docs/concept/integration\n",
    "\n",
    "# Video resources\n",
    "\n",
    "[Creating a single-flow conversational agent](https://www.youtube.com/watch?v=55g8J7UX_d0)\n",
    "\n",
    "[Preview of DCX](https://www.youtube.com/watch?v=zJ_OLuHMfcs)\n",
    "\n",
    "[How to Set Up a Webhook in Dialogflow CX](https://www.youtube.com/watch?v=vNAVbkmW-5I)\n",
    "\n",
    "# Schemes\n",
    "\n",
    "https://cloud.google.com/dialogflow/cx/docs/quick/api\n",
    "\n",
    "# Best practices\n",
    "\n",
    "https://cloud.google.com/dialogflow/cx/docs/concept/agent-design\n",
    "\n",
    "# Entities\n",
    "\n",
    "https://medium.com/google-cloud/using-dialogflow-cx-composite-entities-to-work-around-system-entities-limitations-c6385df12f2b\n",
    "\n",
    "# Conditions\n",
    "\n",
    "https://cloud.google.com/dialogflow/cx/docs/reference/condition\n",
    "\n",
    "\n",
    "# APIs\n",
    "\n",
    "https://sv443.net/jokeapi/v2/"
   ]
  }
 ],
 "metadata": {
  "kernelspec": {
   "display_name": "Python 3 (ipykernel)",
   "language": "python",
   "name": "python3"
  },
  "language_info": {
   "codemirror_mode": {
    "name": "ipython",
    "version": 3
   },
   "file_extension": ".py",
   "mimetype": "text/x-python",
   "name": "python",
   "nbconvert_exporter": "python",
   "pygments_lexer": "ipython3",
   "version": "3.8.12"
  },
  "toc": {
   "base_numbering": 1,
   "nav_menu": {},
   "number_sections": true,
   "sideBar": true,
   "skip_h1_title": false,
   "title_cell": "Table of Contents",
   "title_sidebar": "Contents",
   "toc_cell": false,
   "toc_position": {},
   "toc_section_display": true,
   "toc_window_display": false
  }
 },
 "nbformat": 4,
 "nbformat_minor": 5
}
